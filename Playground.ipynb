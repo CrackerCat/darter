{
 "cells": [
  {
   "cell_type": "code",
   "execution_count": 1,
   "metadata": {},
   "outputs": [],
   "source": [
    "from darter.file import parse_elf_snapshot, parse_appjit_snapshot"
   ]
  },
  {
   "cell_type": "markdown",
   "metadata": {},
   "source": [
    "# Loading and parsing the snapshot file\n",
    "\n",
    "Here we open the file to inspect. It actually contains *two* snapshots, one is the common base and the other contains the actual user code.  \n",
    "`parse_elf_snapshot` extracts the 2 blobs for each of the two snapshots, and parses them.\n",
    "It only returns the second snapshot, which is the interesting one.\n",
    "\n",
    "By default we are inspecting `sample-app.so`, an included sample file which results from building the default Flutter app.  \n",
    "To inspect another file, **place the filename here:**"
   ]
  },
  {
   "cell_type": "code",
   "execution_count": 2,
   "metadata": {
    "collapsed": true,
    "jupyter": {
     "outputs_hidden": true
    }
   },
   "outputs": [
    {
     "name": "stdout",
     "output_type": "stream",
     "text": [
      "------- PARSING VM SNAPSHOT --------\n",
      "\n",
      "[Header]\n",
      "  length = 4733\n",
      "  kind = 2 ('kFullAOT', 'Full + AOT code')\n",
      "\n",
      "[Snapshot header]\n",
      "  version = 'c8562f0ee0ebc38ba217c7955956d1cb'\n",
      "  features = {'product': True, 'use_bare_instructions': True, 'asserts\"': False, 'causal_async_stacks': True, 'bytecode': False, 'arm-eabi': True, 'softfp': True}\n",
      "\n",
      "  base objects: 95\n",
      "  objects: 935\n",
      "  clusters: 5\n",
      "  code order length = 69\n",
      "\n",
      "[002c1094]: INFO: Reading allocation clusters...\n",
      "[002c13a9]: INFO: Reading fill clusters...\n",
      "[002c2215]: INFO: Reading roots...\n",
      "[002c2281]: INFO: Snasphot parsed.\n",
      "\n",
      "------- PARSING ISOLATE SNAPSHOT --------\n",
      "\n",
      "[Header]\n",
      "  length = 836159\n",
      "  kind = 2 ('kFullAOT', 'Full + AOT code')\n",
      "\n",
      "[Snapshot header]\n",
      "  version = 'c8562f0ee0ebc38ba217c7955956d1cb'\n",
      "  features = {'product': True, 'use_bare_instructions': True, 'asserts\"': False, 'causal_async_stacks': True, 'bytecode': False, 'arm-eabi': True, 'softfp': True}\n",
      "\n",
      "  base objects: 935\n",
      "  objects: 74247\n",
      "  clusters: 222\n",
      "  code order length = 7228\n",
      "\n",
      "[002c7098]: INFO: Reading allocation clusters...\n",
      "[002d8228]: INFO: Reading fill clusters...\n",
      "[00393161]: INFO: Reading roots...\n",
      "[00393243]: INFO: Snasphot parsed.\n"
     ]
    }
   ],
   "source": [
    "fname = 'sample-app.so'\n",
    "s = parse_elf_snapshot(fname)\n",
    "refs, clusters = s.refs, s.clusters"
   ]
  },
  {
   "cell_type": "markdown",
   "metadata": {},
   "source": [
    "If your snapshot is AppJIT instead of AppAOT, you can use `parse_appjit_snapshot`:"
   ]
  },
  {
   "cell_type": "code",
   "execution_count": 3,
   "metadata": {
    "collapsed": true,
    "jupyter": {
     "outputs_hidden": true
    }
   },
   "outputs": [
    {
     "name": "stdout",
     "output_type": "stream",
     "text": [
      "Blob lengths: (0, 0, 17599488, 6822944)\n",
      "No base snapshot, skipping base snasphot parsing...\n",
      "\n",
      "------- PARSING ISOLATE SNAPSHOT --------\n",
      "\n",
      "[Header]\n",
      "  length = 12708502\n",
      "  kind = 1 ('kFullJIT', 'Full + JIT code')\n",
      "\n",
      "[Snapshot header]\n",
      "  version = 'c8562f0ee0ebc38ba217c7955956d1cb'\n",
      "  features = {'release': True, 'use_bare_instructions': True, 'asserts\"': False, 'use_field_guards\"': True, 'use_osr\"': True, 'causal_async_stacks': True, 'bytecode': False, 'x64-sysv': True}\n",
      "\n",
      "  base objects: 934\n",
      "  objects: 297885\n",
      "  clusters: 160\n",
      "  code order length = 0\n",
      "\n",
      "[000010ad]: NOTICE: Snapshot expected 934 base objects, but the provided base has 95\n",
      "[000010ad]: INFO: Reading allocation clusters...\n",
      "[0003c3f2]: INFO: Reading fill clusters...\n",
      "[00c1f990]: INFO: Reading roots...\n",
      "[00c1fa9a]: INFO: Snasphot parsed.\n"
     ]
    }
   ],
   "source": [
    "fname = 'appjit-sample.dart.snapshot'\n",
    "s = parse_appjit_snapshot(fname)\n",
    "refs, clusters = s.refs, s.clusters"
   ]
  },
  {
   "cell_type": "markdown",
   "metadata": {},
   "source": [
    "If the parsing was successful, then you are good to go!\n",
    "\n",
    "The parsed data is in `clusters` and `refs`; we will now analyze it further."
   ]
  },
  {
   "cell_type": "markdown",
   "metadata": {},
   "source": [
    "# Analyzing parsed data\n",
    "\n",
    "We will start by defining some basic functions, tables and stats to help us analyze the data:"
   ]
  },
  {
   "cell_type": "code",
   "execution_count": 4,
   "metadata": {
    "scrolled": true
   },
   "outputs": [],
   "source": [
    "from darter.constants import *\n",
    "from darter.other import *\n",
    "from collections import defaultdict\n",
    "\n",
    "def is_relevant(src):\n",
    "    if src[0] == refs['root'].x['global_object_pool'] or src[0] == refs['root'].x['symbol_table']:\n",
    "        return False\n",
    "    return True\n",
    "\n",
    "def show_rev_tree(ref, depth=4, max_srcs=5, i_step=4, hide_irrelevant=True):\n",
    "    ''' Shows a tree of back-references to an object; that is, things pointing to it. '''\n",
    "    def show_src(src, depth, roots=set(), indent=0):\n",
    "        if src[0] in roots: return\n",
    "        if hide_irrelevant and not is_relevant(src): return\n",
    "        print(\" \"*indent + '' + \", \".join(str(x) for x in src))\n",
    "        if depth > 0:\n",
    "            roots, indent = roots | {src[0]}, indent + i_step\n",
    "            srcs = src[0].src\n",
    "            if hasattr(src[0], 'nsrc'): srcs = srcs + src[0].nsrc\n",
    "            for csrc in srcs[:max_srcs]: show_src(csrc, depth-1, roots, indent)\n",
    "            if len(srcs) > max_srcs: print(\" \"*(indent) + '... {} more'.format(len(srcs)-max_srcs))\n",
    "    show_src((ref,), depth)\n",
    "\n",
    "def getcl(name, cl=clusters):\n",
    "    ''' Get the cluster of a certain kind (i.e. `Function`) '''\n",
    "    cid = kkClassId['k{}Cid'.format(name)]\n",
    "    cl = [ c for c in cl if c['cid'] == cid ]\n",
    "    assert len(cl) == 1\n",
    "    return cl[0]\n",
    "\n",
    "def getrefs(name, rf=refs, cl=clusters):\n",
    "    ''' Get list of references defined in a certain kind of cluster '''\n",
    "    c = getcl(name, cl)\n",
    "    return [ rf[x] for x in range(c['ref_start'], c['ref_end']) ]\n",
    "\n",
    "# Build class table\n",
    "classes_refs = getrefs('Class')\n",
    "classes = { c.x['cid']: c for c in classes_refs }\n",
    "assert len(classes) == len(classes_refs)\n",
    "\n",
    "# Build string table\n",
    "strings_refs = getrefs('OneByteString') + getrefs('TwoByteString')\n",
    "strings = { ref.x['value']: ref for ref in strings_refs }\n",
    "assert len(strings) == len(strings_refs)\n",
    "\n",
    "# TODO: show some basic stats"
   ]
  },
  {
   "cell_type": "markdown",
   "metadata": {},
   "source": [
    "# Play!\n",
    "\n",
    "You are now free to inspect the parsed data as you wish. Some examples:"
   ]
  },
  {
   "cell_type": "code",
   "execution_count": 4,
   "metadata": {},
   "outputs": [
    {
     "name": "stdout",
     "output_type": "stream",
     "text": [
      "Function->2861\n",
      "Function->2862\n",
      "Function->2863\n",
      "Function->2864\n",
      "Function->2865\n"
     ]
    }
   ],
   "source": [
    "# Print the first 5 functions of the app. They are 'reference objects':\n",
    "for ref in getrefs('Function')[:5]:\n",
    "    print(ref)"
   ]
  },
  {
   "cell_type": "code",
   "execution_count": 5,
   "metadata": {},
   "outputs": [
    {
     "name": "stdout",
     "output_type": "stream",
     "text": [
      "{'name': 'hitTestChildren'->64784, 'owner': Class->1132, 'result_type': Type->48984, 'parameter_types': Array[3]->54905, 'parameter_names': Array[3]->54904, 'type_parameters': <base Null>null, 'data': <base Null>null, 'code': Code->11870, 'packed_fields': 1310743, 'kind_tag': 142082048}\n"
     ]
    }
   ],
   "source": [
    "# You can use 'ref.x' to access the object data dictionary\n",
    "ref = getrefs('Function')[4]\n",
    "print(ref.x)"
   ]
  },
  {
   "cell_type": "code",
   "execution_count": 6,
   "metadata": {},
   "outputs": [
    {
     "name": "stdout",
     "output_type": "stream",
     "text": [
      "Function->2865\n",
      "    ClosureData->10072, parent_function\n",
      "        Function->2862, data\n",
      "            Code->11868, owner\n",
      "            Array[511]->63682, items, 387\n",
      "                GrowableObjectArray->54862, data\n",
      "    Code->11870, owner\n",
      "    Array[6]->55688, items, 3\n",
      "        Class->1132, functions\n",
      "            Function->2862, owner\n",
      "                Code->11868, owner\n",
      "                Array[511]->63682, items, 387\n",
      "            Function->3377, owner\n",
      "                Code->12331, owner\n",
      "            Function->3378, owner\n",
      "                Code->12332, owner\n",
      "            Function->3379, owner\n",
      "                Code->12333, owner\n",
      "            ... 5 more\n"
     ]
    }
   ],
   "source": [
    "# Print the usage tree for a reference\n",
    "show_rev_tree(ref)"
   ]
  },
  {
   "cell_type": "code",
   "execution_count": 7,
   "metadata": {},
   "outputs": [
    {
     "data": {
      "text/plain": [
       "Array[6]->55688"
      ]
     },
     "execution_count": 7,
     "metadata": {},
     "output_type": "execute_result"
    }
   ],
   "source": [
    "# Using 'refs', we can access the reference object for an ID (for instance, the Array above)\n",
    "refs[55688]"
   ]
  },
  {
   "cell_type": "code",
   "execution_count": 8,
   "metadata": {},
   "outputs": [
    {
     "data": {
      "text/plain": [
       "'Flutter Demo'->69305"
      ]
     },
     "execution_count": 8,
     "metadata": {},
     "output_type": "execute_result"
    }
   ],
   "source": [
    "# Using 'strings', we can look up the reference object for a certain string\n",
    "strings['Flutter Demo']"
   ]
  },
  {
   "cell_type": "markdown",
   "metadata": {},
   "source": [
    "# Finding references to VM objects from native code\n",
    "\n",
    "If you are on AOT, there's no data that tells you the objects referenced from a function.\n",
    "\n",
    "This experimental code attempts to disassemble the native code, looking for references to `r5`.\n",
    "It parses those references into a `native_refs` dictionary.  \n",
    "**Note:** This does *not* track calls made to other functions, only objects loaded into a register, and it currenty works for AOT ARM.\n",
    "\n",
    "It's going to take a while (some minutes), and it's not bulletproof, I've seen it miss some references..."
   ]
  },
  {
   "cell_type": "code",
   "execution_count": 31,
   "metadata": {},
   "outputs": [
    {
     "name": "stdout",
     "output_type": "stream",
     "text": [
      "20944 Unknown op line: push {r0, r1, r2, r3, r5, fp, lr}\n",
      "20996 Unknown op line: pop {r0, r1, r2, r3, r5, fp, lr}\n",
      "21092 Unknown op line: push {r0, r1, r2, r3, r5, fp, lr}\n",
      "21144 Unknown op line: pop {r0, r1, r2, r3, r5, fp, lr}\n",
      "21244 Unknown op line: push {r0, r1, r2, r3, r5, fp, lr}\n",
      "21292 Unknown op line: pop {r0, r1, r2, r3, r5, fp, lr}\n",
      "Elapsed: 65.15995287895203s\n"
     ]
    }
   ],
   "source": [
    "from time import time\n",
    "import r2pipe\n",
    "r2 = r2pipe.open(fname)\n",
    "\n",
    "MG = re.compile(r'[^a-z0-9A-Z_]r5([^a-z0-9A-Z_]|$)')\n",
    "M1 = re.compile(r'add (\\w+), (\\w+), (\\w+)')\n",
    "M2 = re.compile(r'ldr (\\w+), \\[(\\w+), (\\w+)\\]')\n",
    "\n",
    "def extract_references(code):\n",
    "    if 'instructions' not in code.x: return\n",
    "    instr = code.x['instructions']\n",
    "    r2.cmd('s ' + str(instr['data_addr']))\n",
    "    ops = r2.cmdj('pdj ' + str(len(instr['data']) // 4))\n",
    "\n",
    "    def read_op():\n",
    "        m = ops.pop(0)\n",
    "        return m['offset'], m['opcode']\n",
    "\n",
    "    result = []\n",
    "    def process(pc, reg, offset):\n",
    "        offset += 1\n",
    "        if offset % 4 != 0:\n",
    "            raise Exception('Offset not aligned: {}'.format(offset))\n",
    "        result.append((offset // 4, pc, reg))\n",
    "    \n",
    "    def parse_pline(op, exp_source='r5'):\n",
    "        m = re.fullmatch(M1, op)\n",
    "        if m:\n",
    "            target = m.group(1)\n",
    "            source = m.group(2)\n",
    "            if exp_source != source or (target == 'r5'):\n",
    "                raise Exception('Source / target not matching!')\n",
    "            offset = int(m.group(3), 0)\n",
    "            pc, op = read_op()\n",
    "            target2, offset2 = parse_pline(op, target)\n",
    "            return target2, offset + offset2\n",
    "        m = re.fullmatch(M2, op)\n",
    "        if m:\n",
    "            target = m.group(1)\n",
    "            source = m.group(2)\n",
    "            if exp_source != source or (target == 'r5'):\n",
    "                raise Exception('Source / target not matching!')\n",
    "            offset = int(m.group(3), 0)\n",
    "            return target, offset\n",
    "        raise Exception('Unknown op line: ' + op)\n",
    "\n",
    "    while len(ops):\n",
    "        pc, op = read_op()\n",
    "        if not re.search(MG, op): continue\n",
    "        try:\n",
    "            target, offset = parse_pline(op)\n",
    "            process(pc, target, offset)\n",
    "        except Exception as e:\n",
    "            print(pc, e)\n",
    "    return result\n",
    "\n",
    "native_refs = {}\n",
    "cl = getcl('Code')\n",
    "start = time()\n",
    "for r in range(cl['ref_start'], cl['ref_end']):\n",
    "    native_refs[r] = extract_references(refs[r])\n",
    "print('Elapsed: {}s'.format(time() - start))"
   ]
  },
  {
   "cell_type": "markdown",
   "metadata": {},
   "source": [
    "Now populate the parsed references into an `nsrc` field on the reference object they point to:"
   ]
  },
  {
   "cell_type": "code",
   "execution_count": 166,
   "metadata": {},
   "outputs": [
    {
     "name": "stdout",
     "output_type": "stream",
     "text": [
      "Ref outside entries: Code->21462 36192 22496 r3\n"
     ]
    }
   ],
   "source": [
    "for i in range(1, refs['next']):\n",
    "    refs[i].nsrc = []\n",
    "global_entries = refs['root'].x['global_object_pool'].x['entries']\n",
    "\n",
    "for r, nrefs in native_refs.items():\n",
    "    if nrefs is None: continue\n",
    "    instr = refs[r].x['instructions']\n",
    "    instr['nrefs'] = []\n",
    "    for entry, pc, reg in nrefs:\n",
    "        # FIXME: also look at patchable. track refs *at entry* and not ref\n",
    "        if not (0 <= entry < len(global_entries)):\n",
    "            print('Ref outside entries:', refs[r], entry, pc, reg)\n",
    "            continue\n",
    "        entry = global_entries[entry]\n",
    "        if 'raw_obj' not in entry:\n",
    "            #print('Not an object:', refs[r], entry, pc, reg)\n",
    "            continue\n",
    "        entry['raw_obj'].nsrc.append((refs[r], pc))\n",
    "        instr['nrefs'].append((entry['raw_obj'], pc))"
   ]
  },
  {
   "cell_type": "markdown",
   "metadata": {},
   "source": [
    "Now go to the previous section and try to use `show_rev_tree` at the `Flutter Demo` string."
   ]
  }
 ],
 "metadata": {
  "kernelspec": {
   "display_name": "Python 3",
   "language": "python",
   "name": "python3"
  },
  "language_info": {
   "codemirror_mode": {
    "name": "ipython",
    "version": 3
   },
   "file_extension": ".py",
   "mimetype": "text/x-python",
   "name": "python",
   "nbconvert_exporter": "python",
   "pygments_lexer": "ipython3",
   "version": "3.7.4"
  }
 },
 "nbformat": 4,
 "nbformat_minor": 4
}
